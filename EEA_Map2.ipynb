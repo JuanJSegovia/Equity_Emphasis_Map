{
 "cells": [
  {
   "cell_type": "code",
   "execution_count": null,
   "id": "5a716cba-b4b0-4b1b-bb83-591c8edb14fc",
   "metadata": {},
   "outputs": [],
   "source": [
    "import pandas as pd\n",
    "import matplotlib.pyplot as plt\n",
    "import geopandas as gpd\n",
    "import folium\n",
    "from folium.features import GeoJsonTooltip \n",
    "from branca.element import Element"
   ]
  },
  {
   "cell_type": "code",
   "execution_count": null,
   "id": "478151de-2c0c-408c-bf7e-6bc663fd3aa7",
   "metadata": {
    "scrolled": true
   },
   "outputs": [],
   "source": [
    "import geopandas as gpd\n",
    "\n",
    "# Read shapefile (replace with your local path)\n",
    "gdf = gpd.read_file('STEADy_May2024.shp')\n",
    "\n",
    "# Quick look at the data\n",
    "print(gdf.head())\n"
   ]
  },
  {
   "cell_type": "code",
   "execution_count": null,
   "id": "38b5b25d-1895-4408-a887-02f59a4f40ff",
   "metadata": {},
   "outputs": [],
   "source": [
    "gdf.columns.values"
   ]
  },
  {
   "cell_type": "code",
   "execution_count": null,
   "id": "c09bbc45-3403-42fe-acc9-53f4b4c76229",
   "metadata": {},
   "outputs": [],
   "source": [
    "equity_solar_gdf = gdf[\n",
    "    (gdf['IRA_CEJST'] >= 50) &              # Justice40 disadvantaged areas (>50% overlap)\n",
    "    (gdf['P_Poverty'] >= 20) &              # High poverty (≥20% poverty rate)\n",
    "    (gdf['NPV_res_m'] > 0) &                # Positive residential solar NPV\n",
    "    (gdf['IRA_LIC_C1'] >= 50)               # ≥50% overlap with LIC category 1 areas\n",
    "]\n",
    "\n",
    "print(f\"Total equity emphasis areas: {len(equity_solar_gdf)}\")\n"
   ]
  },
  {
   "cell_type": "code",
   "execution_count": null,
   "id": "e006bb96-8767-4a2d-aef7-c8ab58ecd666",
   "metadata": {},
   "outputs": [],
   "source": [
    "#Justice40 (initiative to aims to ensure 40% of overall federal investments flow to disavantaged communities, focuses on climate\n",
    "# change,clean energy,clean transit,affordable housing,workforce development,legacy pollution,clean water and water infrastructure)\n",
    "\n",
    "#CEJST is a mapping tool that desginates census tracts as 'disadvantaged'\n",
    "#IRA_CEJST-Threshold(>=50): Identifying tracts where at least half of the land is classified as disadvantaged by Justice40\n",
    "\n",
    "#P_Poverty-Percent of population living below the federal poverty line\n",
    "#P_Poverty(>=20),selecting tracts where at least 20% of residents live in poverty,common marker for economic disadvantage\n",
    "\n",
    "#NPV_res_m-Residential Solar Net Present Value: avg. long-term financial return for installing residential solar\n",
    "#NPV_res_m-Threshold(>0) dollar value( positive=good investment)(NREL dGEN model)\n",
    "\n",
    "#IRA_LIC_C1- Low-Income Category 1 Overlap: percentage of land area in the tract that qualifies as low income under Inflation Reduction Act(IRA)\n",
    "#bonus credit program(category1)\n",
    "#IRA_LIC_C1-Threshold(>=50): selecting tracts where at least half of the area qualifies for low income community(10% bonus tax credit eligible)\n",
    "\n",
    "#ITC(Investment tax credit) criteria:\n",
    "#1-(50-100%) of tract is eligible for either 'energy community adder' or the 'low income community adder' or 'low income tribal land adder'\n",
    "#2-(50-100%) of tract is eligible for 'energy community adder' AND the 'low income community adder' or 'low income tribal land adder'"
   ]
  },
  {
   "cell_type": "code",
   "execution_count": null,
   "id": "4b4c5ac7-b358-444f-be2c-3784b18fba42",
   "metadata": {
    "scrolled": true
   },
   "outputs": [],
   "source": [
    "top_equity_areas = equity_solar_gdf.sort_values('NPV_res_m', ascending=False)\n",
    "\n",
    "# Display the top 10 tracts\n",
    "top_equity_areas[['GEOID', 'CountyName', 'NPV_res_m', 'P_Poverty', 'IRA_CEJST']].head(10)\n"
   ]
  },
  {
   "cell_type": "code",
   "execution_count": null,
   "id": "b2e0f6d3-4fc1-4910-a38c-e6ff23c82b47",
   "metadata": {},
   "outputs": [],
   "source": [
    "# Convert relevant columns to numeric and handle 'None' or missing values explicitly\n",
    "gdf['Median_inc'] = pd.to_numeric(gdf['Median_inc'], errors='coerce')\n",
    "gdf['NPV_res_m'] = pd.to_numeric(gdf['NPV_res_m'], errors='coerce')\n",
    "\n",
    "# Drop rows with missing values in these critical columns\n",
    "gdf_filtered = gdf.dropna(subset=['Median_inc', 'NPV_res_m'])\n",
    "\n",
    "# Filter to low-income areas (lowest 25%) with positive residential solar NPV\n",
    "low_income_threshold = gdf_filtered['Median_inc'].quantile(0.25)\n",
    "low_income_solar_installed = gdf_filtered[\n",
    "    (gdf_filtered['Median_inc'] < low_income_threshold) & \n",
    "    (gdf_filtered['NPV_res_m'] > 0)\n",
    "]"
   ]
  },
  {
   "cell_type": "code",
   "execution_count": null,
   "id": "17f12c3c-2d62-434e-9378-ce6a9dd84cd0",
   "metadata": {},
   "outputs": [],
   "source": [
    "# Project to a standard U.S.-friendly CRS (EPSG:5070 = USA_Contiguous_Albers_Equal_Area_Conic)\n",
    "gdf = gdf.to_crs(epsg=5070)\n",
    "low_income_solar = low_income_solar_installed.to_crs(epsg=5070)\n",
    "\n",
    "#US State borders from built-in natural dataset\n",
    "states=gpd.read_file('ne_110m_admin_1_states_provinces.shp')\n",
    "states=states[states['admin'] == 'United States of America']\n",
    "states=states.to_crs(epsg=5070)\n",
    "\n",
    "# Define bounding box for continental US (approximate)\n",
    "minx, miny, maxx, maxy = -2500000, 100000, 2500000, 3200000\n",
    "\n",
    "# Plot\n",
    "fig, ax = plt.subplots(figsize=(14, 10))\n",
    "gdf.boundary.plot(ax=ax, linewidth=0.05, color='gray')\n",
    "states.boundary.plot(ax=ax, linewidth=0.6, color='black')\n",
    "low_income_solar.plot(ax=ax, color='red', alpha=0.6)\n",
    "\n",
    "ax.set_xlim(minx, maxx)\n",
    "ax.set_ylim(miny, maxy)\n",
    "ax.set_title(\"Low-Income Areas with Viable Residential Solar Projects (Continental U.S.)\", fontsize=15)\n",
    "ax.axis('off')\n",
    "\n",
    "plt.tight_layout()\n",
    "plt.show()"
   ]
  },
  {
   "cell_type": "code",
   "execution_count": null,
   "id": "726c7564-14f5-410d-8a0a-916a736519ee",
   "metadata": {},
   "outputs": [],
   "source": [
    "#Filter just for Alaska- Tracts that are either low income or have a viable solar impact\n",
    "\n",
    "ak_solar = gdf[\n",
    "    (gdf['StateName']== 'Alaska') &\n",
    "    (\n",
    "\n",
    "        (gdf['Median_inc'] < low_income_threshold) |\n",
    "        (gdf['NPV_res_m'] > 0)\n",
    "    )\n",
    "]"
   ]
  },
  {
   "cell_type": "code",
   "execution_count": null,
   "id": "0c805ba1-977c-4a1d-8faa-3b1ca4c2bac5",
   "metadata": {},
   "outputs": [],
   "source": [
    "fig, ax= plt.subplots(figsize= (10,6))\n",
    "\n",
    "gdf[gdf['StateName'] == 'Alaska'] \\\n",
    "    .to_crs(epsg=5070) \\\n",
    "    .boundary.plot(ax=ax, linewidth = 0.05, color='gray')\n",
    "\n",
    "\n",
    "states[states['name'] == 'Alaska'] \\\n",
    "    .to_crs(epsg=5070) \\\n",
    "    .boundary.plot(ax=ax, linewidth = 0.6, color='black')\n",
    "\n",
    "ak_solar.to_crs(epsg=5070).plot(ax=ax, color='red', alpha= 0.6)\n",
    "ax.set_title('Low-Income or Solar Viable Tracts- Alaska', fontsize = 14)\n",
    "ax.axis('off')\n",
    "plt.tight_layout()\n",
    "plt.show()\n"
   ]
  },
  {
   "cell_type": "code",
   "execution_count": null,
   "id": "08a9dacc-d3ee-4a13-846e-811df28fe89d",
   "metadata": {},
   "outputs": [],
   "source": [
    "hawaii_proj = gdf[gdf['StateName'] == 'Hawaii'].to_crs(epsg=5070)\n",
    "\n",
    "print(hawaii_proj.total_bounds)"
   ]
  },
  {
   "cell_type": "code",
   "execution_count": null,
   "id": "cb857a57-0111-4e5b-bd8f-b57914d58d1a",
   "metadata": {},
   "outputs": [],
   "source": [
    "#Filter just for Hawaii- Tracts that are either low income or have a viable solar impact\n",
    "\n",
    "hi_solar = gdf[\n",
    "    (gdf['StateName']== 'Hawaii') &\n",
    "    (\n",
    "\n",
    "        (gdf['Median_inc'] < low_income_threshold) |\n",
    "        (gdf['NPV_res_m'] > 0)\n",
    "    )\n",
    "]"
   ]
  },
  {
   "cell_type": "code",
   "execution_count": null,
   "id": "6dd8059c-c70b-43b4-9f72-8b17dc55077a",
   "metadata": {},
   "outputs": [],
   "source": [
    "fig, ax= plt.subplots(figsize= (40,15))\n",
    "\n",
    "gdf[gdf['StateName'] == 'Hawaii'] \\\n",
    "    .to_crs(epsg=5070) \\\n",
    "    .boundary.plot(ax=ax, linewidth = 0.05, color='gray')\n",
    "\n",
    "\n",
    "states[states['name'] == 'Hawaii'] \\\n",
    "    .to_crs(epsg=5070) \\\n",
    "    .boundary.plot(ax=ax, linewidth = 0.6, color='black')\n",
    "\n",
    "ax.set_xlim(-7123290,-5976582)\n",
    "ax.set_ylim(1530055, 3894289)\n",
    "\n",
    "hi_solar.to_crs(epsg=5070).plot(ax=ax, color='red', alpha= 0.6)\n",
    "ax.set_title('Low-Income or Solar Viable Tracts- Hawaii', fontsize = 14)\n",
    "ax.axis('off')\n",
    "plt.tight_layout()\n",
    "plt.show()"
   ]
  },
  {
   "cell_type": "markdown",
   "id": "048eb494-2fad-4d5e-9908-90bbee29f3ed",
   "metadata": {},
   "source": [
    "## Create Maps that are Interactive"
   ]
  },
  {
   "cell_type": "code",
   "execution_count": null,
   "id": "4f81c017-071a-425d-856f-7a06fb87deae",
   "metadata": {},
   "outputs": [],
   "source": [
    "# ensure the columns are numeric\n",
    "\n",
    "cols= ['Median_inc', 'NPV_res_m', 'P_Poverty','IRA_CEJST','IRA_LIC_C1']\n",
    "for col in cols:\n",
    "    gdf[col] = pd.to_numeric(gdf[col], errors='coerce')\n",
    "\n",
    "# Drop row with missing values in relevant columns\n",
    "\n",
    "# gdf2= gdf.dropna(subset=cols)\n"
   ]
  },
  {
   "cell_type": "code",
   "execution_count": null,
   "id": "6f03e567-dc39-41b3-81be-81fcacdfcbf4",
   "metadata": {},
   "outputs": [],
   "source": [
    "# gdf.loc[(gdf.StateName == 'Alaska')|(gdf.StateName == 'Hawaii')][['StateName','Median_inc', 'NPV_res_m', 'P_Poverty','IRA_CEJST','IRA_LIC_C1']]"
   ]
  },
  {
   "cell_type": "code",
   "execution_count": null,
   "id": "5fe009c6-e565-4ea5-84d1-463ac45a4c32",
   "metadata": {},
   "outputs": [],
   "source": [
    "# filter for the US Map\n",
    "\n",
    "filtered_US = gdf[\n",
    "    (gdf['Median_inc'] < low_income_threshold) &\n",
    "    (gdf['NPV_res_m'] > 0)\n",
    "].copy()\n",
    "\n",
    "#filter for Alaska Map\n",
    "filtered_AK = gdf[\n",
    "    (gdf['Median_inc'] < low_income_threshold) |\n",
    "    (gdf['NPV_res_m'] > 0)\n",
    "].copy()\n",
    "\n",
    "#filter for Hawaii map\n",
    "filtered_HI = gdf[\n",
    "    (gdf['Median_inc'] < low_income_threshold) |\n",
    "    (gdf['NPV_res_m'] > 0)\n",
    "].copy()\n",
    "\n",
    "# Reproject to WGS84 for folium(this ensures that the coordinates in file are expressed as longitude and latitude)\n",
    "\n",
    "filtered_US = filtered_US.to_crs(epsg=4326)\n",
    "filtered_AK = filtered_AK.to_crs(epsg=4326)\n",
    "filtered_HI = filtered_HI.to_crs(epsg=4326)"
   ]
  },
  {
   "cell_type": "code",
   "execution_count": null,
   "id": "7ac38bcb-9270-4f54-b0b7-62608e4103e9",
   "metadata": {},
   "outputs": [],
   "source": [
    "# Tooltip Creation\n",
    "\n",
    "tooltip_fields = ['StateName','CountyName','IRA_LIC_C1','IRA_CEJST','P_Poverty','Median_inc']\n",
    "tooltip_aliases = ['State:','County:','IRA_LIC_C1 (%):','IRA_CEJST (%):','Poverty Rate (%):','Median Income ($):']"
   ]
  },
  {
   "cell_type": "code",
   "execution_count": null,
   "id": "eb5def39-be4b-48c9-8667-727901528556",
   "metadata": {},
   "outputs": [],
   "source": [
    "# Map creation function\n",
    "\n",
    "def create_map(df, center, zoom):\n",
    "    fmap = folium.Map(location=center, zoom_start = zoom, tiles= 'CartoDB positron')\n",
    "    folium.GeoJson(\n",
    "        df,\n",
    "        tooltip=GeoJsonTooltip(fields=tooltip_fields, aliases=tooltip_aliases, localize=True),\n",
    "        style_function=lambda feature: {\n",
    "            'fillColor':'red',\n",
    "            'color':'black',\n",
    "            'weight': 0.5,\n",
    "            'fillOpacity': 0.6,\n",
    "        },\n",
    "        name='Filtered Tracts'\n",
    "    ).add_to(fmap)\n",
    "    \n",
    "    \n",
    "#  Add a custom legend using folium.Html and folium.Marker\n",
    "    legend_html = \"\"\"\n",
    "    <div style=\"\n",
    "        position: fixed;\n",
    "        bottom: 20px; left: 20px;\n",
    "        width: 300px;\n",
    "        background-color: white;\n",
    "        border: 2px solid gray;\n",
    "        border-radius: 6px;\n",
    "        padding: 10px;\n",
    "        font-size: 14px;\n",
    "        z-index: 9999;\n",
    "    \">\n",
    "    <b>Legend</b><br>\n",
    "    <span style=\"color:red;\">&#9632;</span> Filtered Census Tract<br><br>\n",
    "    <b>Field Descriptions:</b><br>\n",
    "    <b>IRA_LIC_C1:</b> % of tract area in a Low-Income Community (IRA Bonus Credit)<br>\n",
    "    <b>IRA_CEJST:</b> % of tract area designated disadvantaged under Justice40 (CEJST)<br>\n",
    "    </div>\n",
    "    \"\"\"\n",
    "    \n",
    "    fmap.get_root().html.add_child(Element(legend_html))\n",
    "    \n",
    "    return fmap \n",
    "# Display or save\n",
    "# fmap.save(\"interactive_us_map_with_legend.html\")\n",
    "# m"
   ]
  },
  {
   "cell_type": "code",
   "execution_count": null,
   "id": "c2647419-e1bf-471b-a08f-a0e2573604eb",
   "metadata": {},
   "outputs": [],
   "source": [
    "#Create US map\n",
    "us_map = create_map(filtered_US, center=[39.5, -98.35], zoom=4)\n",
    "us_map"
   ]
  },
  {
   "cell_type": "code",
   "execution_count": null,
   "id": "dee7431b-31ec-41ea-a621-597a6e47204f",
   "metadata": {},
   "outputs": [],
   "source": [
    "#Create Alaska map\n",
    "ak_map = create_map(filtered_AK[filtered_AK['StateName']== 'Alaska'], center=[64.2, -149.5], zoom=5)\n",
    "ak_map"
   ]
  },
  {
   "cell_type": "code",
   "execution_count": null,
   "id": "9dfb5d6a-e86a-4c8b-932a-62d5c85440c4",
   "metadata": {},
   "outputs": [],
   "source": [
    "#Create Hawaii map\n",
    "hi_map = create_map(filtered_HI[filtered_HI['StateName']== 'Hawaii'], center=[20.8, -156.3], zoom=7)\n",
    "hi_map"
   ]
  },
  {
   "cell_type": "code",
   "execution_count": null,
   "id": "df4bc83e-e5a6-4e1f-aa81-bf06f1192058",
   "metadata": {},
   "outputs": [],
   "source": [
    "#Save maps\n",
    "us_map.save('interactive_us_map.html')\n",
    "ak_map.save('interactive_alaska_map.html')\n",
    "hi_map.save('interactive_hawaii_map.html')"
   ]
  },
  {
   "cell_type": "markdown",
   "id": "245df964-bae5-4003-bbc5-eed093e57e22",
   "metadata": {},
   "source": [
    "## RESOURCES\n"
   ]
  },
  {
   "cell_type": "markdown",
   "id": "b8c18237-dee2-40bc-bf47-20d629f3de04",
   "metadata": {},
   "source": [
    "1. https://data.nrel.gov/submissions/238\n",
    "2. https://docs.nrel.gov/docs/fy24osti/85722.pdf"
   ]
  },
  {
   "cell_type": "code",
   "execution_count": null,
   "id": "cfcec1a9-676a-4a9d-ad7a-668b31e8b059",
   "metadata": {},
   "outputs": [],
   "source": []
  }
 ],
 "metadata": {
  "kernelspec": {
   "display_name": "Python 3 (ipykernel)",
   "language": "python",
   "name": "python3"
  },
  "language_info": {
   "codemirror_mode": {
    "name": "ipython",
    "version": 3
   },
   "file_extension": ".py",
   "mimetype": "text/x-python",
   "name": "python",
   "nbconvert_exporter": "python",
   "pygments_lexer": "ipython3",
   "version": "3.13.5"
  }
 },
 "nbformat": 4,
 "nbformat_minor": 5
}
